{
  "nbformat": 4,
  "nbformat_minor": 0,
  "metadata": {
    "colab": {
      "name": "pytorch 다층퍼셉트론",
      "provenance": [],
      "authorship_tag": "ABX9TyPhpjmnBSdoXD3Xddra91iy",
      "include_colab_link": true
    },
    "kernelspec": {
      "name": "python3",
      "display_name": "Python 3"
    },
    "language_info": {
      "name": "python"
    },
    "accelerator": "GPU"
  },
  "cells": [
    {
      "cell_type": "markdown",
      "metadata": {
        "id": "view-in-github",
        "colab_type": "text"
      },
      "source": [
        "<a href=\"https://colab.research.google.com/github/sukhyun1017/pytorch-study/blob/main/pytorch_%EB%8B%A4%EC%B8%B5%ED%8D%BC%EC%85%89%ED%8A%B8%EB%A1%A0.ipynb\" target=\"_parent\"><img src=\"https://colab.research.google.com/assets/colab-badge.svg\" alt=\"Open In Colab\"/></a>"
      ]
    },
    {
      "cell_type": "code",
      "execution_count": 3,
      "metadata": {
        "colab": {
          "base_uri": "https://localhost:8080/"
        },
        "id": "epp7mokAypmG",
        "outputId": "b6dccbcf-dc20-412b-f7bd-cdf8e11c80e9"
      },
      "outputs": [
        {
          "output_type": "stream",
          "name": "stdout",
          "text": [
            "cuda\n"
          ]
        }
      ],
      "source": [
        "import torch\n",
        "import torch.nn as nn\n",
        "device = 'cuda' if torch.cuda.is_available() else 'cpu'\n",
        "print(device)"
      ]
    },
    {
      "cell_type": "code",
      "source": [
        "X = torch.FloatTensor([[0, 0], [0, 1], [1, 0], [1, 1]]).to(device)\n",
        "Y = torch.FloatTensor([[0], [1], [1], [0]]).to(device)"
      ],
      "metadata": {
        "id": "d-2vR2ZpzzRs"
      },
      "execution_count": 4,
      "outputs": []
    },
    {
      "cell_type": "code",
      "source": [
        "model = nn.Sequential(\n",
        "          nn.Linear(2,10,bias =True),\n",
        "          nn.Sigmoid(),\n",
        "          nn.Linear(10,10,bias=True),\n",
        "          nn.Sigmoid(),\n",
        "          nn.Linear(10,10,bias=True),\n",
        "          nn.Sigmoid(),\n",
        "          nn.Linear(10,1,bias=True),\n",
        "          nn.Sigmoid()\n",
        ").to(device)"
      ],
      "metadata": {
        "id": "sntsu0rj3riy"
      },
      "execution_count": 5,
      "outputs": []
    },
    {
      "cell_type": "code",
      "source": [
        "criterion = torch.nn.BCELoss().to(device)\n",
        "optimizer = torch.optim.SGD(model.parameters(),lr=1)"
      ],
      "metadata": {
        "id": "B8xvd2Su4P4R"
      },
      "execution_count": 7,
      "outputs": []
    },
    {
      "cell_type": "code",
      "source": [
        "for epoch in range(10000):\n",
        "  optimizer.zero_grad()\n",
        "  H = model(X)\n",
        "\n",
        "  cost = criterion(H,Y)\n",
        "  cost.backward()\n",
        "  optimizer.step()\n",
        "\n",
        "  if epoch %1000 ==0:\n",
        "    print('Epoch',epoch,'\\n cost:' ,cost.item())"
      ],
      "metadata": {
        "colab": {
          "base_uri": "https://localhost:8080/"
        },
        "id": "vMZvhSUN5eqU",
        "outputId": "921448f9-33a5-4fac-8dca-52b2d1b9fbce"
      },
      "execution_count": 11,
      "outputs": [
        {
          "output_type": "stream",
          "name": "stdout",
          "text": [
            "Epoch 0 \n",
            " cost: 3.886301055899821e-05\n",
            "Epoch 1000 \n",
            " cost: 3.6508536140900105e-05\n",
            "Epoch 2000 \n",
            " cost: 3.439249121583998e-05\n",
            "Epoch 3000 \n",
            " cost: 3.2485077099408954e-05\n",
            "Epoch 4000 \n",
            " cost: 3.080119131482206e-05\n",
            "Epoch 5000 \n",
            " cost: 2.9236522095743567e-05\n",
            "Epoch 6000 \n",
            " cost: 2.788047459034715e-05\n",
            "Epoch 7000 \n",
            " cost: 2.6598940166877583e-05\n",
            "Epoch 8000 \n",
            " cost: 2.5466419174335897e-05\n",
            "Epoch 9000 \n",
            " cost: 2.4393510102527216e-05\n"
          ]
        }
      ]
    },
    {
      "cell_type": "code",
      "source": [
        "with torch.no_grad():\n",
        "  H = model(X)\n",
        "  predicted = (H>0.5).float() #float() true,false 를 1,0으로 바꿔줌\n",
        "  accuracy = (predicted == Y).float().mean()\n",
        "  print('출력값:',H.detach().cpu().numpy())\n",
        "  print(\"예측값:\",predicted.detach().cpu().numpy())\n",
        "  print('실제값:',Y.cpu().numpy())\n",
        "#detach 텐서를 연산기록으로부터 분리\n",
        "#cpu gpu메모리의 텐서를 cpu로 옮김\n",
        "#numpy() numpy로 변환"
      ],
      "metadata": {
        "colab": {
          "base_uri": "https://localhost:8080/"
        },
        "id": "HTdGdllE6ZgH",
        "outputId": "76d82cd7-a18b-45a1-f261-28b4e65a637f"
      },
      "execution_count": 20,
      "outputs": [
        {
          "output_type": "stream",
          "name": "stdout",
          "text": [
            "출력값: [[1.6978101e-05]\n",
            " [9.9997461e-01]\n",
            " [9.9997747e-01]\n",
            " [2.8688093e-05]]\n",
            "예측값: [[0.]\n",
            " [1.]\n",
            " [1.]\n",
            " [0.]]\n",
            "실제값: [[0.]\n",
            " [1.]\n",
            " [1.]\n",
            " [0.]]\n"
          ]
        }
      ]
    },
    {
      "cell_type": "code",
      "source": [
        ""
      ],
      "metadata": {
        "id": "s-jOogTE8Xi2"
      },
      "execution_count": null,
      "outputs": []
    }
  ]
}