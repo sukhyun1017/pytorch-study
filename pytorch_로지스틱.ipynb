{
  "nbformat": 4,
  "nbformat_minor": 0,
  "metadata": {
    "colab": {
      "name": "pytorch 로지스틱",
      "provenance": [],
      "authorship_tag": "ABX9TyMPnFLEIbJkfhAsqQkQevPp",
      "include_colab_link": true
    },
    "kernelspec": {
      "name": "python3",
      "display_name": "Python 3"
    },
    "language_info": {
      "name": "python"
    }
  },
  "cells": [
    {
      "cell_type": "markdown",
      "metadata": {
        "id": "view-in-github",
        "colab_type": "text"
      },
      "source": [
        "<a href=\"https://colab.research.google.com/github/sukhyun1017/pytorch-study/blob/main/pytorch_%EB%A1%9C%EC%A7%80%EC%8A%A4%ED%8B%B1.ipynb\" target=\"_parent\"><img src=\"https://colab.research.google.com/assets/colab-badge.svg\" alt=\"Open In Colab\"/></a>"
      ]
    },
    {
      "cell_type": "code",
      "execution_count": 23,
      "metadata": {
        "id": "VPvElZ0k6Yxl"
      },
      "outputs": [],
      "source": [
        "import numpy as np\n",
        "import matplotlib.pyplot as plt"
      ]
    },
    {
      "cell_type": "code",
      "source": [
        "def sigmoid(x):\n",
        "  return 1/(1+np.exp(-x))"
      ],
      "metadata": {
        "id": "wwSdkxjR667Z"
      },
      "execution_count": 24,
      "outputs": []
    },
    {
      "cell_type": "code",
      "source": [
        "x=np.arange(-5.0,5.0,0.1)\n",
        "y=sigmoid(x)\n",
        "\n",
        "plt.plot(x,y)\n",
        "plt.plot([0,0],[1.0,0.0],':') # 가운데 점선\n",
        "plt.title('sigmoid')\n",
        "plt.show()"
      ],
      "metadata": {
        "colab": {
          "base_uri": "https://localhost:8080/",
          "height": 280
        },
        "id": "a9L-sQYZ7BG0",
        "outputId": "bdf071f0-7e43-43ee-e3bf-991813e64941"
      },
      "execution_count": 25,
      "outputs": [
        {
          "output_type": "display_data",
          "data": {
            "image/png": "[encoded data removed]",
            "text/plain": [
              "<Figure size 432x288 with 1 Axes>"
            ]
          },
          "metadata": {
            "needs_background": "light"
          }
        }
      ]
    },
    {
      "cell_type": "code",
      "source": [
        "import torch\n",
        "import torch.nn as nn\n",
        "import torch.nn.functional as F\n",
        "import torch.optim as optim"
      ],
      "metadata": {
        "id": "AOI4y_bJ9r-S"
      },
      "execution_count": 26,
      "outputs": []
    },
    {
      "cell_type": "code",
      "source": [
        "x_data = [[1, 2], [2, 3], [3, 1], [4, 3], [5, 3], [6, 2]]\n",
        "y_data = [[0], [0], [0], [1], [1], [1]]\n",
        "x_train = torch.FloatTensor(x_data)\n",
        "y_train = torch.FloatTensor(y_data)\n",
        "H = torch.sigmoid(x_train.matmul(W) + b)"
      ],
      "metadata": {
        "id": "iA4xnAW4-55K"
      },
      "execution_count": 31,
      "outputs": []
    },
    {
      "cell_type": "code",
      "source": [
        "losses = -(y_train * torch.log(H) + \n",
        "           (1 - y_train) * torch.log(1 -H))\n",
        "print(losses.mean())"
      ],
      "metadata": {
        "colab": {
          "base_uri": "https://localhost:8080/"
        },
        "id": "6ufujaLW_dYF",
        "outputId": "be570cf9-eeb0-4a22-bc0c-b297c83d1ada"
      },
      "execution_count": 28,
      "outputs": [
        {
          "output_type": "stream",
          "name": "stdout",
          "text": [
            "tensor(0.6931, grad_fn=<MeanBackward0>)\n"
          ]
        }
      ]
    },
    {
      "cell_type": "code",
      "source": [
        "F.binary_cross_entropy(H, y_train)"
      ],
      "metadata": {
        "colab": {
          "base_uri": "https://localhost:8080/"
        },
        "id": "822DIPEm_v7V",
        "outputId": "4572783e-0941-48a8-dcd0-ad9db039dd8d"
      },
      "execution_count": 29,
      "outputs": [
        {
          "output_type": "execute_result",
          "data": {
            "text/plain": [
              "tensor(0.6931, grad_fn=<BinaryCrossEntropyBackward0>)"
            ]
          },
          "metadata": {},
          "execution_count": 29
        }
      ]
    },
    {
      "cell_type": "code",
      "source": [
        "# 모델 초기화\n",
        "W = torch.zeros((2, 1), requires_grad=True)\n",
        "b = torch.zeros(1, requires_grad=True)\n",
        "# optimizer 설정\n",
        "optimizer = optim.SGD([W, b], lr=1)\n",
        "\n",
        "nb_epochs = 1000\n",
        "for epoch in range(nb_epochs + 1):\n",
        "    \n",
        "    #H(x) 계산\n",
        "    H = torch.sigmoid(x_train.matmul(W) + b)\n",
        "    # Cost 계산\n",
        "    hypothesis = torch.sigmoid(x_train.matmul(W) + b)\n",
        "    cost = F.binary_cross_entropy(H, y_train)\n",
        "    \n",
        "    # cost로 H(x) 개선\n",
        "    optimizer.zero_grad()\n",
        "    cost.backward()\n",
        "    optimizer.step()\n",
        "\n",
        "    # 100번마다 로그 출력\n",
        "    if epoch % 100 == 0:\n",
        "        print('Epoch {:4d}/{} Cost: {:.6f}'.format(\n",
        "            epoch, nb_epochs, cost.item()\n",
        "        ))"
      ],
      "metadata": {
        "id": "FH4kVNbU_7oa",
        "colab": {
          "base_uri": "https://localhost:8080/"
        },
        "outputId": "443d4b8f-bdfc-4fe4-a3b9-d3ae5e0de4d7"
      },
      "execution_count": 33,
      "outputs": [
        {
          "output_type": "stream",
          "name": "stdout",
          "text": [
            "Epoch    0/1000 Cost: 0.693147\n",
            "Epoch  100/1000 Cost: 0.134722\n",
            "Epoch  200/1000 Cost: 0.080643\n",
            "Epoch  300/1000 Cost: 0.057900\n",
            "Epoch  400/1000 Cost: 0.045300\n",
            "Epoch  500/1000 Cost: 0.037261\n",
            "Epoch  600/1000 Cost: 0.031672\n",
            "Epoch  700/1000 Cost: 0.027556\n",
            "Epoch  800/1000 Cost: 0.024394\n",
            "Epoch  900/1000 Cost: 0.021888\n",
            "Epoch 1000/1000 Cost: 0.019852\n"
          ]
        }
      ]
    },
    {
      "cell_type": "code",
      "source": [
        "prediction = H >= torch.FloatTensor([0.5])\n",
        "print(prediction)"
      ],
      "metadata": {
        "id": "3nxc086YAWGu",
        "colab": {
          "base_uri": "https://localhost:8080/"
        },
        "outputId": "95fbdd44-a1f7-4edc-fa3e-b70036b4c783"
      },
      "execution_count": 34,
      "outputs": [
        {
          "output_type": "stream",
          "name": "stdout",
          "text": [
            "tensor([[False],\n",
            "        [False],\n",
            "        [False],\n",
            "        [ True],\n",
            "        [ True],\n",
            "        [ True]])\n"
          ]
        }
      ]
    },
    {
      "cell_type": "markdown",
      "source": [
        "nn.Module 로 회귀 구현"
      ],
      "metadata": {
        "id": "T8g9IQauFaOB"
      }
    },
    {
      "cell_type": "code",
      "source": [
        "x_data = [[1, 2], [2, 3], [3, 1], [4, 3], [5, 3], [6, 2]]\n",
        "y_data = [[0], [0], [0], [1], [1], [1]]\n",
        "x_train = torch.FloatTensor(x_data)\n",
        "y_train = torch.FloatTensor(y_data)"
      ],
      "metadata": {
        "id": "0uCbkI2uCJ21"
      },
      "execution_count": 35,
      "outputs": []
    },
    {
      "cell_type": "code",
      "source": [
        "model = nn.Sequential(\n",
        "   nn.Linear(2, 1), # input_dim = 2, output_dim = 1\n",
        "   nn.Sigmoid() # 출력은 시그모이드 함수를 거친다\n",
        ")"
      ],
      "metadata": {
        "id": "vRqCSKMmFhrT"
      },
      "execution_count": 42,
      "outputs": []
    },
    {
      "cell_type": "code",
      "source": [
        "model(x_train)"
      ],
      "metadata": {
        "colab": {
          "base_uri": "https://localhost:8080/"
        },
        "id": "zEKufJFgF8dL",
        "outputId": "ad2095a4-b0b8-4339-d111-dd0c3c93b988"
      },
      "execution_count": 38,
      "outputs": [
        {
          "output_type": "execute_result",
          "data": {
            "text/plain": [
              "tensor([[0.3382],\n",
              "        [0.2405],\n",
              "        [0.1317],\n",
              "        [0.0929],\n",
              "        [0.0550],\n",
              "        [0.0295]], grad_fn=<SigmoidBackward0>)"
            ]
          },
          "metadata": {},
          "execution_count": 38
        }
      ]
    },
    {
      "cell_type": "code",
      "source": [
        "# 모델 초기화\n",
        "model = nn.Sequential(\n",
        "   nn.Linear(2, 1), # input_dim = 2, output_dim = 1\n",
        "   nn.Sigmoid() # 출력은 시그모이드 함수를 거친다\n",
        ")\n",
        "\n",
        "# optimizer 설정\n",
        "optimizer = optim.SGD(model.parameters(), lr=1)\n",
        "\n",
        "nb_epochs = 1000\n",
        "for epoch in range(nb_epochs + 1):\n",
        "\n",
        "    # H(x) 계산\n",
        "    hypothesis = model(x_train)\n",
        "\n",
        "    # cost 계산\n",
        "    cost = F.binary_cross_entropy(hypothesis, y_train)\n",
        "\n",
        "    # cost로 H(x) 개선\n",
        "    optimizer.zero_grad()\n",
        "    cost.backward()\n",
        "    optimizer.step()\n",
        "\n",
        "    # 20번마다 로그 출력\n",
        "    if epoch % 20 == 0:\n",
        "        prediction = hypothesis >= torch.FloatTensor([0.5]) # 예측값이 0.5를 넘으면 True로 간주\n",
        "        correct_prediction = prediction.float() == y_train # 실제값과 일치하는 경우만 True로 간주\n",
        "        accuracy = correct_prediction.sum()/ len(y_train) # 정확도를 계산\n",
        "        \n",
        "      \n",
        "        print('Epoch {:4d}/{} Cost: {:.6f} Accuracy {:2.2f}%'.format( # 각 에포크마다 정확도를 출력\n",
        "            epoch, nb_epochs, cost.item(), accuracy * 100,\n",
        "        ))\n",
        "       "
      ],
      "metadata": {
        "colab": {
          "base_uri": "https://localhost:8080/"
        },
        "id": "3v8L-JGSF-m_",
        "outputId": "7ef537fa-897c-4d26-b7fc-b4ef72626b14"
      },
      "execution_count": 54,
      "outputs": [
        {
          "output_type": "stream",
          "name": "stdout",
          "text": [
            "Epoch    0/1000 Cost: 1.021030 Accuracy 16.67%\n",
            "Epoch   20/1000 Cost: 0.609775 Accuracy 83.33%\n",
            "Epoch   40/1000 Cost: 0.412127 Accuracy 83.33%\n",
            "Epoch   60/1000 Cost: 0.254751 Accuracy 83.33%\n",
            "Epoch   80/1000 Cost: 0.161179 Accuracy 100.00%\n",
            "Epoch  100/1000 Cost: 0.135936 Accuracy 100.00%\n",
            "Epoch  120/1000 Cost: 0.119580 Accuracy 100.00%\n",
            "Epoch  140/1000 Cost: 0.106797 Accuracy 100.00%\n",
            "Epoch  160/1000 Cost: 0.096533 Accuracy 100.00%\n",
            "Epoch  180/1000 Cost: 0.088107 Accuracy 100.00%\n",
            "Epoch  200/1000 Cost: 0.081066 Accuracy 100.00%\n",
            "Epoch  220/1000 Cost: 0.075091 Accuracy 100.00%\n",
            "Epoch  240/1000 Cost: 0.069955 Accuracy 100.00%\n",
            "Epoch  260/1000 Cost: 0.065493 Accuracy 100.00%\n",
            "Epoch  280/1000 Cost: 0.061577 Accuracy 100.00%\n",
            "Epoch  300/1000 Cost: 0.058114 Accuracy 100.00%\n",
            "Epoch  320/1000 Cost: 0.055027 Accuracy 100.00%\n",
            "Epoch  340/1000 Cost: 0.052258 Accuracy 100.00%\n",
            "Epoch  360/1000 Cost: 0.049760 Accuracy 100.00%\n",
            "Epoch  380/1000 Cost: 0.047494 Accuracy 100.00%\n",
            "Epoch  400/1000 Cost: 0.045429 Accuracy 100.00%\n",
            "Epoch  420/1000 Cost: 0.043539 Accuracy 100.00%\n",
            "Epoch  440/1000 Cost: 0.041803 Accuracy 100.00%\n",
            "Epoch  460/1000 Cost: 0.040202 Accuracy 100.00%\n",
            "Epoch  480/1000 Cost: 0.038722 Accuracy 100.00%\n",
            "Epoch  500/1000 Cost: 0.037348 Accuracy 100.00%\n",
            "Epoch  520/1000 Cost: 0.036069 Accuracy 100.00%\n",
            "Epoch  540/1000 Cost: 0.034877 Accuracy 100.00%\n",
            "Epoch  560/1000 Cost: 0.033762 Accuracy 100.00%\n",
            "Epoch  580/1000 Cost: 0.032717 Accuracy 100.00%\n",
            "Epoch  600/1000 Cost: 0.031735 Accuracy 100.00%\n",
            "Epoch  620/1000 Cost: 0.030811 Accuracy 100.00%\n",
            "Epoch  640/1000 Cost: 0.029940 Accuracy 100.00%\n",
            "Epoch  660/1000 Cost: 0.029118 Accuracy 100.00%\n",
            "Epoch  680/1000 Cost: 0.028340 Accuracy 100.00%\n",
            "Epoch  700/1000 Cost: 0.027603 Accuracy 100.00%\n",
            "Epoch  720/1000 Cost: 0.026904 Accuracy 100.00%\n",
            "Epoch  740/1000 Cost: 0.026239 Accuracy 100.00%\n",
            "Epoch  760/1000 Cost: 0.025607 Accuracy 100.00%\n",
            "Epoch  780/1000 Cost: 0.025005 Accuracy 100.00%\n",
            "Epoch  800/1000 Cost: 0.024431 Accuracy 100.00%\n",
            "Epoch  820/1000 Cost: 0.023883 Accuracy 100.00%\n",
            "Epoch  840/1000 Cost: 0.023359 Accuracy 100.00%\n",
            "Epoch  860/1000 Cost: 0.022858 Accuracy 100.00%\n",
            "Epoch  880/1000 Cost: 0.022378 Accuracy 100.00%\n",
            "Epoch  900/1000 Cost: 0.021918 Accuracy 100.00%\n",
            "Epoch  920/1000 Cost: 0.021476 Accuracy 100.00%\n",
            "Epoch  940/1000 Cost: 0.021053 Accuracy 100.00%\n",
            "Epoch  960/1000 Cost: 0.020645 Accuracy 100.00%\n",
            "Epoch  980/1000 Cost: 0.020254 Accuracy 100.00%\n",
            "Epoch 1000/1000 Cost: 0.019876 Accuracy 100.00%\n"
          ]
        }
      ]
    },
    {
      "cell_type": "markdown",
      "source": [
        "class 로 모델 구현"
      ],
      "metadata": {
        "id": "9djWDDxWIno7"
      }
    },
    {
      "cell_type": "code",
      "source": [
        "class BinaryClassifier(nn.Module):\n",
        "    def __init__(self):\n",
        "        super().__init__()\n",
        "        self.logistic = nn.Sequential(\n",
        "            nn.Linear(2, 1),\n",
        "            nn.Sigmoid()\n",
        "        )\n",
        "    def forward(self, x):\n",
        "        return self.logistic(x) "
      ],
      "metadata": {
        "id": "bO-Q0mHZI9X3"
      },
      "execution_count": 56,
      "outputs": []
    },
    {
      "cell_type": "code",
      "source": [
        "# optimizer 설정\n",
        "optimizer = optim.SGD(model.parameters(), lr=1)\n",
        "\n",
        "nb_epochs = 1000\n",
        "for epoch in range(nb_epochs + 1):\n",
        "\n",
        "    # H(x) 계산\n",
        "    hypothesis = model(x_train)\n",
        "\n",
        "    # cost 계산\n",
        "    cost = F.binary_cross_entropy(hypothesis, y_train)\n",
        "\n",
        "    # cost로 H(x) 개선\n",
        "    optimizer.zero_grad()\n",
        "    cost.backward()\n",
        "    optimizer.step()\n",
        "\n",
        "    # 20번마다 로그 출력\n",
        "    if epoch % 10 == 0:\n",
        "        prediction = hypothesis >= torch.FloatTensor([0.5]) # 예측값이 0.5를 넘으면 True로 간주\n",
        "        correct_prediction = prediction.float() == y_train # 실제값과 일치하는 경우만 True로 간주\n",
        "        accuracy = correct_prediction.sum() / len(y_train) # 정확도를 계산\n",
        "        print('Epoch {:4d}/{} Cost: {:.6f} Accuracy {:2.2f}%'.format( # 각 에포크마다 정확도를 출력\n",
        "            epoch, nb_epochs, cost.item(), accuracy * 100,\n",
        "        ))"
      ],
      "metadata": {
        "id": "130-XqehJG0p"
      },
      "execution_count": null,
      "outputs": []
    },
    {
      "cell_type": "code",
      "source": [
        ""
      ],
      "metadata": {
        "id": "rPxLAosrNrLO"
      },
      "execution_count": null,
      "outputs": []
    }
  ]
}