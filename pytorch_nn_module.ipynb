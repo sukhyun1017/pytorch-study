{
  "nbformat": 4,
  "nbformat_minor": 0,
  "metadata": {
    "colab": {
      "name": "pytorch nn.module",
      "provenance": [],
      "authorship_tag": "ABX9TyP6CJhoQgJ0NNwxjRCf395m",
      "include_colab_link": true
    },
    "kernelspec": {
      "name": "python3",
      "display_name": "Python 3"
    },
    "language_info": {
      "name": "python"
    }
  },
  "cells": [
    {
      "cell_type": "markdown",
      "metadata": {
        "id": "view-in-github",
        "colab_type": "text"
      },
      "source": [
        "<a href=\"https://colab.research.google.com/github/sukhyun1017/pytorch-study/blob/main/pytorch_nn_module.ipynb\" target=\"_parent\"><img src=\"https://colab.research.google.com/assets/colab-badge.svg\" alt=\"Open In Colab\"/></a>"
      ]
    },
    {
      "cell_type": "code",
      "execution_count": 1,
      "metadata": {
        "id": "dGkkwh5jO9XR"
      },
      "outputs": [],
      "source": [
        "import torch\n",
        "import torch.nn as nn\n",
        "import torch.nn.functional as F"
      ]
    },
    {
      "cell_type": "code",
      "source": [
        "torch.manual_seed(1)"
      ],
      "metadata": {
        "colab": {
          "base_uri": "https://localhost:8080/"
        },
        "id": "TirZm0iuUTr_",
        "outputId": "1c8b60d1-4d76-4780-ca1e-c25e18ccd8f5"
      },
      "execution_count": 2,
      "outputs": [
        {
          "output_type": "execute_result",
          "data": {
            "text/plain": [
              "<torch._C.Generator at 0x7f63b1855df0>"
            ]
          },
          "metadata": {},
          "execution_count": 2
        }
      ]
    },
    {
      "cell_type": "code",
      "source": [
        "x_train = torch.FloatTensor([[1], [2], [3]])\n",
        "y_train = torch.FloatTensor([[2], [4], [6]])"
      ],
      "metadata": {
        "id": "cWx71T0XUbgW"
      },
      "execution_count": 3,
      "outputs": []
    },
    {
      "cell_type": "code",
      "source": [
        "model = nn.Linear(1,1)\n",
        "#model = nn.Linear(input_dim, output_dim)\n",
        "#cost = F.mse_loss(prediction, y_train)"
      ],
      "metadata": {
        "id": "8MqPyLAoUp46"
      },
      "execution_count": 4,
      "outputs": []
    },
    {
      "cell_type": "code",
      "source": [
        "print(list(model.parameters()))"
      ],
      "metadata": {
        "colab": {
          "base_uri": "https://localhost:8080/"
        },
        "id": "cvVtOCcFUwRY",
        "outputId": "8b23ed78-9ca3-4146-b99e-691782283c01"
      },
      "execution_count": 6,
      "outputs": [
        {
          "output_type": "stream",
          "name": "stdout",
          "text": [
            "[Parameter containing:\n",
            "tensor([[0.5153]], requires_grad=True), Parameter containing:\n",
            "tensor([-0.4414], requires_grad=True)]\n"
          ]
        }
      ]
    },
    {
      "cell_type": "code",
      "source": [
        "optimizer = torch.optim.SGD(model.parameters(), lr=0.01)"
      ],
      "metadata": {
        "id": "4vJ_X8-NU7hm"
      },
      "execution_count": 7,
      "outputs": []
    },
    {
      "cell_type": "code",
      "source": [
        "# 전체 훈련 데이터에 대해 경사 하강법을 1,000회 반복\n",
        "nb_epochs = 1000\n",
        "for epoch in range(nb_epochs+1):\n",
        "\n",
        "    # H(x) 계산\n",
        "    prediction = model(x_train)\n",
        "\n",
        "    # cost 계산\n",
        "    cost = F.mse_loss(prediction, y_train) # <== 파이토치에서 제공하는 평균 제곱 오차 함수\n",
        "\n",
        "    # cost로 H(x) 개선하는 부분\n",
        "    # gradient를 0으로 초기화\n",
        "    optimizer.zero_grad()\n",
        "    # 비용 함수를 미분하여 gradient 계산\n",
        "    cost.backward() # backward 연산\n",
        "    # W와 b를 업데이트\n",
        "    optimizer.step()\n",
        "\n",
        "    if epoch % 100 == 0:\n",
        "    # 100번마다 로그 출력\n",
        "      print('Epoch {:4d}/{} Cost: {:.6f}'.format(\n",
        "          epoch, nb_epochs, cost.item()\n",
        "      ))"
      ],
      "metadata": {
        "colab": {
          "base_uri": "https://localhost:8080/"
        },
        "id": "qGkpikwfVwA1",
        "outputId": "86631f4a-7456-4e40-e0c6-56233b57df02"
      },
      "execution_count": 8,
      "outputs": [
        {
          "output_type": "stream",
          "name": "stdout",
          "text": [
            "Epoch    0/1000 Cost: 13.103541\n",
            "Epoch  100/1000 Cost: 0.002791\n",
            "Epoch  200/1000 Cost: 0.001724\n",
            "Epoch  300/1000 Cost: 0.001066\n",
            "Epoch  400/1000 Cost: 0.000658\n",
            "Epoch  500/1000 Cost: 0.000407\n",
            "Epoch  600/1000 Cost: 0.000251\n",
            "Epoch  700/1000 Cost: 0.000155\n",
            "Epoch  800/1000 Cost: 0.000096\n",
            "Epoch  900/1000 Cost: 0.000059\n",
            "Epoch 1000/1000 Cost: 0.000037\n"
          ]
        }
      ]
    },
    {
      "cell_type": "code",
      "source": [
        "var = torch.FloatTensor([[4.0]])\n",
        "pred_y = model(var)\n",
        "print(pred_y)"
      ],
      "metadata": {
        "colab": {
          "base_uri": "https://localhost:8080/"
        },
        "id": "_43nU9fGPhc2",
        "outputId": "3dabaeed-6bd9-4bda-bb93-237dad1542c5"
      },
      "execution_count": 9,
      "outputs": [
        {
          "output_type": "stream",
          "name": "stdout",
          "text": [
            "tensor([[7.9879]], grad_fn=<AddmmBackward0>)\n"
          ]
        }
      ]
    },
    {
      "cell_type": "code",
      "source": [
        "print(list(model.parameters()))"
      ],
      "metadata": {
        "colab": {
          "base_uri": "https://localhost:8080/"
        },
        "id": "lcis6JSKWPAi",
        "outputId": "2e74554c-aa6b-4cb2-ba80-7606adf154ba"
      },
      "execution_count": 10,
      "outputs": [
        {
          "output_type": "stream",
          "name": "stdout",
          "text": [
            "[Parameter containing:\n",
            "tensor([[1.9930]], requires_grad=True), Parameter containing:\n",
            "tensor([0.0159], requires_grad=True)]\n"
          ]
        }
      ]
    },
    {
      "cell_type": "markdown",
      "source": [
        "다중선형회귀"
      ],
      "metadata": {
        "id": "CKFLDyiaXBrc"
      }
    },
    {
      "cell_type": "code",
      "source": [
        "x_train = torch.FloatTensor([[73, 80, 75],\n",
        "                             [93, 88, 93],\n",
        "                             [89, 91, 90],\n",
        "                             [96, 98, 100],\n",
        "                             [73, 66, 70]])\n",
        "y_train = torch.FloatTensor([[152], [185], [180], [196], [142]])"
      ],
      "metadata": {
        "id": "hPjSsGMkWUJQ"
      },
      "execution_count": 15,
      "outputs": []
    },
    {
      "cell_type": "code",
      "source": [
        "model = nn.Linear(3,1)"
      ],
      "metadata": {
        "id": "JSUTMxjWXDWB"
      },
      "execution_count": 16,
      "outputs": []
    },
    {
      "cell_type": "code",
      "source": [
        "print(list(model.parameters()))"
      ],
      "metadata": {
        "colab": {
          "base_uri": "https://localhost:8080/"
        },
        "id": "8nyoOofhXFU5",
        "outputId": "d3b1e1f6-4195-42dd-fc1e-0415c991bf84"
      },
      "execution_count": 17,
      "outputs": [
        {
          "output_type": "stream",
          "name": "stdout",
          "text": [
            "[Parameter containing:\n",
            "tensor([[-0.1188,  0.2937,  0.0803]], requires_grad=True), Parameter containing:\n",
            "tensor([-0.0707], requires_grad=True)]\n"
          ]
        }
      ]
    },
    {
      "cell_type": "code",
      "source": [
        "optimizer = torch.optim.SGD(model.parameters(), lr=1e-5) "
      ],
      "metadata": {
        "id": "QFrMWS1DXIJO"
      },
      "execution_count": 18,
      "outputs": []
    },
    {
      "cell_type": "code",
      "source": [
        "nb_epochs = 2000\n",
        "for epoch in range(nb_epochs+1):\n",
        "\n",
        "    # H(x) 계산\n",
        "    prediction = model(x_train)\n",
        "    # model(x_train)은 model.forward(x_train)와 동일함.\n",
        "\n",
        "    # cost 계산\n",
        "    cost = F.mse_loss(prediction, y_train) # <== 파이토치에서 제공하는 평균 제곱 오차 함수\n",
        "\n",
        "    # cost로 H(x) 개선하는 부분\n",
        "    # gradient를 0으로 초기화\n",
        "    optimizer.zero_grad()\n",
        "    # 비용 함수를 미분하여 gradient 계산\n",
        "    cost.backward()\n",
        "    # W와 b를 업데이트\n",
        "    optimizer.step()\n",
        "\n",
        "    if epoch % 100 == 0:\n",
        "    # 100번마다 로그 출력\n",
        "      print('Epoch {:4d}/{} Cost: {:.6f}'.format(\n",
        "          epoch, nb_epochs, cost.item()\n",
        "      ))"
      ],
      "metadata": {
        "colab": {
          "base_uri": "https://localhost:8080/"
        },
        "id": "YWe5jhRkXJ42",
        "outputId": "86a88d47-166c-4930-a6a1-3c8bf6d8e1b5"
      },
      "execution_count": 19,
      "outputs": [
        {
          "output_type": "stream",
          "name": "stdout",
          "text": [
            "Epoch    0/2000 Cost: 22642.416016\n",
            "Epoch  100/2000 Cost: 4.976951\n",
            "Epoch  200/2000 Cost: 4.733481\n",
            "Epoch  300/2000 Cost: 4.502824\n",
            "Epoch  400/2000 Cost: 4.284275\n",
            "Epoch  500/2000 Cost: 4.077209\n",
            "Epoch  600/2000 Cost: 3.881021\n",
            "Epoch  700/2000 Cost: 3.695124\n",
            "Epoch  800/2000 Cost: 3.519025\n",
            "Epoch  900/2000 Cost: 3.352130\n",
            "Epoch 1000/2000 Cost: 3.194023\n",
            "Epoch 1100/2000 Cost: 3.044178\n",
            "Epoch 1200/2000 Cost: 2.902206\n",
            "Epoch 1300/2000 Cost: 2.767665\n",
            "Epoch 1400/2000 Cost: 2.640176\n",
            "Epoch 1500/2000 Cost: 2.519374\n",
            "Epoch 1600/2000 Cost: 2.404892\n",
            "Epoch 1700/2000 Cost: 2.296402\n",
            "Epoch 1800/2000 Cost: 2.193589\n",
            "Epoch 1900/2000 Cost: 2.096157\n",
            "Epoch 2000/2000 Cost: 2.003828\n"
          ]
        }
      ]
    },
    {
      "cell_type": "markdown",
      "source": [
        "Class 로 모델 구현"
      ],
      "metadata": {
        "id": "PfFAR_XVaQ-A"
      }
    },
    {
      "cell_type": "code",
      "source": [
        "class LinearRegressionModel(nn.Module):\n",
        "  def __init__(self):\n",
        "    super().__init__()\n",
        "    self.linear = nn.Linear(1,1)\n",
        "  \n",
        "  def forward(self,x):\n",
        "    return self.linear(x)\n",
        "\n",
        "#super() 로 인해 부모 클래스의 속성을 가지고 초기화됨"
      ],
      "metadata": {
        "id": "jQyGhlH5ZRDA"
      },
      "execution_count": 20,
      "outputs": []
    },
    {
      "cell_type": "code",
      "source": [
        "model = LinearRegressionModel()"
      ],
      "metadata": {
        "id": "J1Dlv6ONZl7l"
      },
      "execution_count": 21,
      "outputs": []
    },
    {
      "cell_type": "code",
      "source": [
        "x_train = torch.FloatTensor([[1], [2], [3]])\n",
        "y_train = torch.FloatTensor([[2], [4], [6]])"
      ],
      "metadata": {
        "id": "yYhrfF0laU45"
      },
      "execution_count": 22,
      "outputs": []
    },
    {
      "cell_type": "code",
      "source": [
        "optimizer = torch.optim.SGD(model.parameters(), lr= 0.01)"
      ],
      "metadata": {
        "id": "paobxFQIaXqo"
      },
      "execution_count": 24,
      "outputs": []
    },
    {
      "cell_type": "code",
      "source": [
        "# 전체 훈련 데이터에 대해 경사 하강법을 2,000회 반복\n",
        "nb_epochs = 2000\n",
        "for epoch in range(nb_epochs+1):\n",
        "\n",
        "    # H(x) 계산\n",
        "    prediction = model(x_train)\n",
        "\n",
        "    # cost 계산\n",
        "    cost = F.mse_loss(prediction, y_train) # <== 파이토치에서 제공하는 평균 제곱 오차 함수\n",
        "\n",
        "    # cost로 H(x) 개선하는 부분\n",
        "    # gradient를 0으로 초기화\n",
        "    optimizer.zero_grad()\n",
        "    # 비용 함수를 미분하여 gradient 계산\n",
        "    cost.backward() # backward 연산\n",
        "    # W와 b를 업데이트\n",
        "    optimizer.step()\n",
        "\n",
        "    if epoch % 100 == 0:\n",
        "    # 100번마다 로그 출력\n",
        "      print('Epoch {:4d}/{} Cost: {:.6f}'.format(\n",
        "          epoch, nb_epochs, cost.item()\n",
        "      ))"
      ],
      "metadata": {
        "colab": {
          "base_uri": "https://localhost:8080/"
        },
        "id": "d9_2r3smaeFO",
        "outputId": "f9dbada2-260b-42d9-82cb-1bb966072a9b"
      },
      "execution_count": 25,
      "outputs": [
        {
          "output_type": "stream",
          "name": "stdout",
          "text": [
            "Epoch    0/2000 Cost: 13.510777\n",
            "Epoch  100/2000 Cost: 0.040541\n",
            "Epoch  200/2000 Cost: 0.025052\n",
            "Epoch  300/2000 Cost: 0.015480\n",
            "Epoch  400/2000 Cost: 0.009566\n",
            "Epoch  500/2000 Cost: 0.005911\n",
            "Epoch  600/2000 Cost: 0.003653\n",
            "Epoch  700/2000 Cost: 0.002257\n",
            "Epoch  800/2000 Cost: 0.001395\n",
            "Epoch  900/2000 Cost: 0.000862\n",
            "Epoch 1000/2000 Cost: 0.000533\n",
            "Epoch 1100/2000 Cost: 0.000329\n",
            "Epoch 1200/2000 Cost: 0.000203\n",
            "Epoch 1300/2000 Cost: 0.000126\n",
            "Epoch 1400/2000 Cost: 0.000078\n",
            "Epoch 1500/2000 Cost: 0.000048\n",
            "Epoch 1600/2000 Cost: 0.000030\n",
            "Epoch 1700/2000 Cost: 0.000018\n",
            "Epoch 1800/2000 Cost: 0.000011\n",
            "Epoch 1900/2000 Cost: 0.000007\n",
            "Epoch 2000/2000 Cost: 0.000004\n"
          ]
        }
      ]
    }
  ]
}