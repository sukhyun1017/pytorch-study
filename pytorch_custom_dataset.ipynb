{
  "nbformat": 4,
  "nbformat_minor": 0,
  "metadata": {
    "colab": {
      "name": "pytorch custom dataset",
      "provenance": [],
      "authorship_tag": "ABX9TyMXBvgtPkG4iWZIQDyAB+c2",
      "include_colab_link": true
    },
    "kernelspec": {
      "name": "python3",
      "display_name": "Python 3"
    },
    "language_info": {
      "name": "python"
    }
  },
  "cells": [
    {
      "cell_type": "markdown",
      "metadata": {
        "id": "view-in-github",
        "colab_type": "text"
      },
      "source": [
        "<a href=\"https://colab.research.google.com/github/sukhyun1017/pytorch-study/blob/main/pytorch_custom_dataset.ipynb\" target=\"_parent\"><img src=\"https://colab.research.google.com/assets/colab-badge.svg\" alt=\"Open In Colab\"/></a>"
      ]
    },
    {
      "cell_type": "code",
      "execution_count": 1,
      "metadata": {
        "colab": {
          "base_uri": "https://localhost:8080/",
          "height": 136
        },
        "id": "63u2eNLWizvJ",
        "outputId": "4c3cb216-acaf-4e2d-f0ec-c8465ed951c2"
      },
      "outputs": [
        {
          "output_type": "error",
          "ename": "IndentationError",
          "evalue": "ignored",
          "traceback": [
            "\u001b[0;36m  File \u001b[0;32m\"<ipython-input-1-43b4066303b8>\"\u001b[0;36m, line \u001b[0;32m5\u001b[0m\n\u001b[0;31m    def __len__(self):\u001b[0m\n\u001b[0m      ^\u001b[0m\n\u001b[0;31mIndentationError\u001b[0m\u001b[0;31m:\u001b[0m expected an indented block\n"
          ]
        }
      ],
      "source": [
        "'''\n",
        "class CustomDataset(torch.utils.data.Dataset): \n",
        "  def __init__(self):\n",
        "  #데이터셋의 전처리를 해주는 부분\n",
        "\n",
        "  def __len__(self):\n",
        "  #데이터셋의 길이. 즉, 총 샘플의 수를 적어주는 부분\n",
        "\n",
        "  def __getitem__(self, idx): \n",
        "  #데이터셋에서 특정 1개의 샘플을 가져오는 함수\n",
        "'''"
      ]
    },
    {
      "cell_type": "code",
      "source": [
        "import torch\n",
        "import torch.nn.functional as F"
      ],
      "metadata": {
        "id": "WbPdonpRjIks"
      },
      "execution_count": 3,
      "outputs": []
    },
    {
      "cell_type": "code",
      "source": [
        "from torch.utils.data import Dataset\n",
        "from torch.utils.data import DataLoader"
      ],
      "metadata": {
        "id": "55MS3rFdjPXz"
      },
      "execution_count": 2,
      "outputs": []
    },
    {
      "cell_type": "code",
      "source": [
        "# Dataset 상속\n",
        "class CustomDataset(Dataset): \n",
        "  def __init__(self):\n",
        "    self.x_data = [[73, 80, 75],\n",
        "                   [93, 88, 93],\n",
        "                   [89, 91, 90],\n",
        "                   [96, 98, 100],\n",
        "                   [73, 66, 70]]\n",
        "    self.y_data = [[152], [185], [180], [196], [142]]\n",
        "\n",
        "  # 총 데이터의 개수를 리턴\n",
        "  def __len__(self): \n",
        "    return len(self.x_data)\n",
        "\n",
        "  # 인덱스를 입력받아 그에 맵핑되는 입출력 데이터를 파이토치의 Tensor 형태로 리턴\n",
        "  def __getitem__(self, idx): \n",
        "    x = torch.FloatTensor(self.x_data[idx])\n",
        "    y = torch.FloatTensor(self.y_data[idx])\n",
        "    return x, y"
      ],
      "metadata": {
        "id": "TL_IuwyBjbWp"
      },
      "execution_count": 4,
      "outputs": []
    },
    {
      "cell_type": "code",
      "source": [
        "dataset = CustomDataset()\n",
        "dataloader = DataLoader(dataset, batch_size=2, shuffle=True)"
      ],
      "metadata": {
        "id": "qwv6zV4Yjlzb"
      },
      "execution_count": 5,
      "outputs": []
    },
    {
      "cell_type": "code",
      "source": [
        "model = torch.nn.Linear(3,1)\n",
        "optimizer = torch.optim.SGD(model.parameters(), lr=1e-5) "
      ],
      "metadata": {
        "id": "ct4Yygx8jsgE"
      },
      "execution_count": 7,
      "outputs": []
    },
    {
      "cell_type": "code",
      "source": [
        "nb_epochs = 20\n",
        "for epoch in range(nb_epochs + 1):\n",
        "  for batch_idx, samples in enumerate(dataloader):\n",
        "    # print(batch_idx)\n",
        "    # print(samples)\n",
        "    x_train, y_train = samples\n",
        "    # H(x) 계산\n",
        "    prediction = model(x_train)\n",
        "\n",
        "    # cost 계산\n",
        "    cost = F.mse_loss(prediction, y_train)\n",
        "\n",
        "    # cost로 H(x) 계산\n",
        "    optimizer.zero_grad()\n",
        "    cost.backward()\n",
        "    optimizer.step()\n",
        "\n",
        "    print('Epoch {:4d}/{} Batch {}/{} Cost: {:.6f}'.format(\n",
        "        epoch, nb_epochs, batch_idx+1, len(dataloader),\n",
        "        cost.item()\n",
        "        ))"
      ],
      "metadata": {
        "colab": {
          "base_uri": "https://localhost:8080/"
        },
        "id": "fK2XJ1XNjoCk",
        "outputId": "aa2a9919-819d-4d1a-e8f0-706e80335fdb"
      },
      "execution_count": 8,
      "outputs": [
        {
          "output_type": "stream",
          "name": "stdout",
          "text": [
            "Epoch    0/20 Batch 1/3 Cost: 14456.531250\n",
            "Epoch    0/20 Batch 2/3 Cost: 4082.270264\n",
            "Epoch    0/20 Batch 3/3 Cost: 2090.165039\n",
            "Epoch    1/20 Batch 1/3 Cost: 481.225159\n",
            "Epoch    1/20 Batch 2/3 Cost: 58.080750\n",
            "Epoch    1/20 Batch 3/3 Cost: 19.109129\n",
            "Epoch    2/20 Batch 1/3 Cost: 23.022314\n",
            "Epoch    2/20 Batch 2/3 Cost: 10.304975\n",
            "Epoch    2/20 Batch 3/3 Cost: 0.411046\n",
            "Epoch    3/20 Batch 1/3 Cost: 1.215692\n",
            "Epoch    3/20 Batch 2/3 Cost: 9.159748\n",
            "Epoch    3/20 Batch 3/3 Cost: 9.985044\n",
            "Epoch    4/20 Batch 1/3 Cost: 9.084532\n",
            "Epoch    4/20 Batch 2/3 Cost: 4.941126\n",
            "Epoch    4/20 Batch 3/3 Cost: 5.801647\n",
            "Epoch    5/20 Batch 1/3 Cost: 3.072864\n",
            "Epoch    5/20 Batch 2/3 Cost: 8.118204\n",
            "Epoch    5/20 Batch 3/3 Cost: 5.375710\n",
            "Epoch    6/20 Batch 1/3 Cost: 0.748347\n",
            "Epoch    6/20 Batch 2/3 Cost: 7.428057\n",
            "Epoch    6/20 Batch 3/3 Cost: 9.678558\n",
            "Epoch    7/20 Batch 1/3 Cost: 4.396508\n",
            "Epoch    7/20 Batch 2/3 Cost: 3.749336\n",
            "Epoch    7/20 Batch 3/3 Cost: 10.180692\n",
            "Epoch    8/20 Batch 1/3 Cost: 0.506361\n",
            "Epoch    8/20 Batch 2/3 Cost: 11.959817\n",
            "Epoch    8/20 Batch 3/3 Cost: 9.775451\n",
            "Epoch    9/20 Batch 1/3 Cost: 5.545023\n",
            "Epoch    9/20 Batch 2/3 Cost: 4.531809\n",
            "Epoch    9/20 Batch 3/3 Cost: 12.134915\n",
            "Epoch   10/20 Batch 1/3 Cost: 7.731803\n",
            "Epoch   10/20 Batch 2/3 Cost: 4.261973\n",
            "Epoch   10/20 Batch 3/3 Cost: 1.630438\n",
            "Epoch   11/20 Batch 1/3 Cost: 5.395638\n",
            "Epoch   11/20 Batch 2/3 Cost: 3.709628\n",
            "Epoch   11/20 Batch 3/3 Cost: 10.509702\n",
            "Epoch   12/20 Batch 1/3 Cost: 5.385245\n",
            "Epoch   12/20 Batch 2/3 Cost: 6.669001\n",
            "Epoch   12/20 Batch 3/3 Cost: 1.591472\n",
            "Epoch   13/20 Batch 1/3 Cost: 6.610886\n",
            "Epoch   13/20 Batch 2/3 Cost: 1.528204\n",
            "Epoch   13/20 Batch 3/3 Cost: 10.698118\n",
            "Epoch   14/20 Batch 1/3 Cost: 5.889298\n",
            "Epoch   14/20 Batch 2/3 Cost: 5.571805\n",
            "Epoch   14/20 Batch 3/3 Cost: 6.821187\n",
            "Epoch   15/20 Batch 1/3 Cost: 5.989578\n",
            "Epoch   15/20 Batch 2/3 Cost: 7.266190\n",
            "Epoch   15/20 Batch 3/3 Cost: 6.411089\n",
            "Epoch   16/20 Batch 1/3 Cost: 2.947034\n",
            "Epoch   16/20 Batch 2/3 Cost: 7.903430\n",
            "Epoch   16/20 Batch 3/3 Cost: 5.210091\n",
            "Epoch   17/20 Batch 1/3 Cost: 4.388246\n",
            "Epoch   17/20 Batch 2/3 Cost: 5.131639\n",
            "Epoch   17/20 Batch 3/3 Cost: 7.866443\n",
            "Epoch   18/20 Batch 1/3 Cost: 1.942628\n",
            "Epoch   18/20 Batch 2/3 Cost: 15.468511\n",
            "Epoch   18/20 Batch 3/3 Cost: 1.078319\n",
            "Epoch   19/20 Batch 1/3 Cost: 6.605664\n",
            "Epoch   19/20 Batch 2/3 Cost: 5.238400\n",
            "Epoch   19/20 Batch 3/3 Cost: 0.701140\n",
            "Epoch   20/20 Batch 1/3 Cost: 2.650805\n",
            "Epoch   20/20 Batch 2/3 Cost: 11.980450\n",
            "Epoch   20/20 Batch 3/3 Cost: 4.840792\n"
          ]
        }
      ]
    }
  ]
}