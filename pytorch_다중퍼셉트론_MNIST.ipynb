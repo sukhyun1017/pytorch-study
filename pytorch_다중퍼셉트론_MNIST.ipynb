{
  "nbformat": 4,
  "nbformat_minor": 0,
  "metadata": {
    "colab": {
      "name": "pytorch 다중퍼셉트론 MNIST",
      "provenance": [],
      "authorship_tag": "ABX9TyPKDiyBzBH7/KpjVwAn5dDz",
      "include_colab_link": true
    },
    "kernelspec": {
      "name": "python3",
      "display_name": "Python 3"
    },
    "language_info": {
      "name": "python"
    },
    "accelerator": "GPU"
  },
  "cells": [
    {
      "cell_type": "markdown",
      "metadata": {
        "id": "view-in-github",
        "colab_type": "text"
      },
      "source": [
        "<a href=\"https://colab.research.google.com/github/sukhyun1017/pytorch-study/blob/main/pytorch_%EB%8B%A4%EC%A4%91%ED%8D%BC%EC%85%89%ED%8A%B8%EB%A1%A0_MNIST.ipynb\" target=\"_parent\"><img src=\"https://colab.research.google.com/assets/colab-badge.svg\" alt=\"Open In Colab\"/></a>"
      ]
    },
    {
      "cell_type": "code",
      "source": [
        "import torch\n",
        "import torchvision.datasets as dsets\n",
        "import torchvision.transforms as transforms\n",
        "from torch.utils.data import DataLoader,TensorDataset\n",
        "import torch.nn as nn\n",
        "import matplotlib.pyplot as plt\n",
        "import random"
      ],
      "metadata": {
        "id": "UYGAGUzsF553"
      },
      "execution_count": 55,
      "outputs": []
    },
    {
      "cell_type": "code",
      "source": [
        "USE_CUDA = torch.cuda.is_available() # GPU를 사용가능하면 True, 아니라면 False를 리턴\n",
        "device = torch.device(\"cuda\" if USE_CUDA else \"cpu\") # GPU 사용 가능하면 사용하고 아니면 CPU 사용\n",
        "print(\"다음 기기로 학습합니다:\", device)"
      ],
      "metadata": {
        "colab": {
          "base_uri": "https://localhost:8080/"
        },
        "id": "Gr8fSWG0I6VQ",
        "outputId": "a46ee846-63e3-430f-d7f3-3142c7268fb6"
      },
      "execution_count": 41,
      "outputs": [
        {
          "output_type": "stream",
          "name": "stdout",
          "text": [
            "다음 기기로 학습합니다: cuda\n"
          ]
        }
      ]
    },
    {
      "cell_type": "code",
      "source": [
        "# MNIST dataset\n",
        "#torchvision.datasets.dsets.MNIST를 통해서 dataset 불러오기\n",
        "mnist_train = dsets.MNIST(root='MNIST_data/', #다운받을 경로\n",
        "                          train=True,         #훈련or 테스트\n",
        "                          transform=transforms.ToTensor(), #텐서로 변환\n",
        "                          download=True) #경로에 없으면 다운\n",
        "\n",
        "mnist_test = dsets.MNIST(root='MNIST_data/',\n",
        "                         train=False,\n",
        "                         transform=transforms.ToTensor(),\n",
        "                         download=True)"
      ],
      "metadata": {
        "id": "ei9ThOsFI7i4"
      },
      "execution_count": 94,
      "outputs": []
    },
    {
      "cell_type": "code",
      "source": [
        "data_loader = DataLoader(dataset=mnist_train,\n",
        "                         batch_size=64,\n",
        "                         shuffle=True,\n",
        "                         drop_last=True) # 마지막 배치를 버릴지 말지"
      ],
      "metadata": {
        "id": "48JTJC0uI9ZB"
      },
      "execution_count": 95,
      "outputs": []
    },
    {
      "cell_type": "code",
      "source": [
        "model = nn.Sequential()\n",
        "model.add_module('fully connected1',nn.Linear(28*28*1,100))\n",
        "model.add_module('ReLU1',nn.ReLU())\n",
        "model.add_module('fully connected2',nn.Linear(100,100))\n",
        "model.add_module('ReLU2',nn.ReLU())\n",
        "model.add_module('fully connected3',nn.Linear(100,10))\n",
        "model.to(device)\n",
        "print(model)"
      ],
      "metadata": {
        "colab": {
          "base_uri": "https://localhost:8080/"
        },
        "id": "6hNw3ERzL7uw",
        "outputId": "40e6c1ac-d267-473e-8b29-e1c38b174f38"
      },
      "execution_count": 96,
      "outputs": [
        {
          "output_type": "stream",
          "name": "stdout",
          "text": [
            "Sequential(\n",
            "  (fully connected1): Linear(in_features=784, out_features=100, bias=True)\n",
            "  (ReLU1): ReLU()\n",
            "  (fully connected2): Linear(in_features=100, out_features=100, bias=True)\n",
            "  (ReLU2): ReLU()\n",
            "  (fully connected3): Linear(in_features=100, out_features=10, bias=True)\n",
            ")\n"
          ]
        }
      ]
    },
    {
      "cell_type": "code",
      "source": [
        "from torch import optim\n",
        "loss_fn = nn.CrossEntropyLoss().to(device)\n",
        "optimizer = optim.SGD(model.parameters(),lr=0.01)"
      ],
      "metadata": {
        "id": "pPx4RUsCMC-p"
      },
      "execution_count": 97,
      "outputs": []
    },
    {
      "cell_type": "code",
      "source": [
        "training_epochs=20\n",
        "for epoch in range(training_epochs): \n",
        "    avg_cost = 0\n",
        "    total_batch = len(data_loader)\n",
        "\n",
        "    for X, Y in data_loader:\n",
        "        # 배치 크기가 64이므로 아래의 연산에서 X는 (64, 784)의 텐서가 된다.\n",
        "        X = X.view(-1, 28 * 28).to(device)\n",
        "        # 레이블은 원-핫 인코딩이 된 상태가 아니라 0 ~ 9의 정수.\n",
        "        Y = Y.to(device)\n",
        "\n",
        "        optimizer.zero_grad()\n",
        "        H = model(X)\n",
        "        cost = loss_fn(H, Y)\n",
        "        cost.backward()\n",
        "        optimizer.step()\n",
        "\n",
        "        avg_cost += cost / total_batch\n",
        "\n",
        "    print('Epoch:', '%04d' % (epoch + 1), 'cost =', '{:.9f}'.format(avg_cost))\n",
        "\n",
        "print('Learning finished')"
      ],
      "metadata": {
        "colab": {
          "base_uri": "https://localhost:8080/"
        },
        "id": "oJLhArT9Uyv7",
        "outputId": "aa2e84ed-e239-4ace-d580-43b24c117769"
      },
      "execution_count": 98,
      "outputs": [
        {
          "output_type": "stream",
          "name": "stdout",
          "text": [
            "Epoch: 0001 cost = 1.648458242\n",
            "Epoch: 0002 cost = 0.541087210\n",
            "Epoch: 0003 cost = 0.391180605\n",
            "Epoch: 0004 cost = 0.343020737\n",
            "Epoch: 0005 cost = 0.314616352\n",
            "Epoch: 0006 cost = 0.293899417\n",
            "Epoch: 0007 cost = 0.276981801\n",
            "Epoch: 0008 cost = 0.261054039\n",
            "Epoch: 0009 cost = 0.246710524\n",
            "Epoch: 0010 cost = 0.233076841\n",
            "Epoch: 0011 cost = 0.219957769\n",
            "Epoch: 0012 cost = 0.207690403\n",
            "Epoch: 0013 cost = 0.196334973\n",
            "Epoch: 0014 cost = 0.186458752\n",
            "Epoch: 0015 cost = 0.176632985\n",
            "Epoch: 0016 cost = 0.168399528\n",
            "Epoch: 0017 cost = 0.160630032\n",
            "Epoch: 0018 cost = 0.153511137\n",
            "Epoch: 0019 cost = 0.146868333\n",
            "Epoch: 0020 cost = 0.140588194\n",
            "Learning finished\n"
          ]
        }
      ]
    },
    {
      "cell_type": "code",
      "source": [
        "with torch.no_grad(): #gradient 계산 x\n",
        "\n",
        "  X_test = mnist_test.test_data.view(-1,28*28).float().to(device)\n",
        "  Y_test = mnist_test.test_labels.to(device)\n",
        "\n",
        "  prediction = model(X_test)\n",
        "  correct_prediction = torch.argmax(prediction, 1) == Y_test\n",
        "  accuracy = correct_prediction.float().mean()\n",
        "  print('Accuracy:', accuracy.item())\n",
        "\n",
        "  r = random.randint(0, len(mnist_test) - 1)\n",
        "  print('random r:',r)\n",
        "  X_single_data = mnist_test.test_data[r:r + 1].view(-1, 28 * 28).float().to(device)\n",
        "  Y_single_data = mnist_test.test_labels[r:r + 1].to(device)\n",
        "\n",
        "  print('Label: ', Y_single_data.item())\n",
        "  single_prediction = model(X_single_data)\n",
        "  print('Prediction: ', torch.argmax(single_prediction, 1).item())\n",
        "\n",
        "  plt.imshow(mnist_test.test_data[r:r + 1].view(28, 28), cmap='Greys', interpolation='nearest')\n",
        "  plt.show()"
      ],
      "metadata": {
        "colab": {
          "base_uri": "https://localhost:8080/",
          "height": 412
        },
        "id": "67wuZvd9OK0H",
        "outputId": "bb006023-7913-405f-9e10-786bf3d8b9d2"
      },
      "execution_count": 116,
      "outputs": [
        {
          "output_type": "stream",
          "name": "stderr",
          "text": [
            "/usr/local/lib/python3.7/dist-packages/torchvision/datasets/mnist.py:67: UserWarning: test_data has been renamed data\n",
            "  warnings.warn(\"test_data has been renamed data\")\n",
            "/usr/local/lib/python3.7/dist-packages/torchvision/datasets/mnist.py:57: UserWarning: test_labels has been renamed targets\n",
            "  warnings.warn(\"test_labels has been renamed targets\")\n"
          ]
        },
        {
          "output_type": "stream",
          "name": "stdout",
          "text": [
            "Accuracy: 0.9490000009536743\n",
            "random r: 2939\n",
            "Label:  9\n",
            "Prediction:  9\n"
          ]
        },
        {
          "output_type": "display_data",
          "data": {
            "image/png": "[encoded data removed]",
            "text/plain": [
              "<Figure size 432x288 with 1 Axes>"
            ]
          },
          "metadata": {
            "needs_background": "light"
          }
        }
      ]
    },
    {
      "cell_type": "code",
      "source": [
        ""
      ],
      "metadata": {
        "id": "yJDGmrluO2_I"
      },
      "execution_count": null,
      "outputs": []
    }
  ]
}